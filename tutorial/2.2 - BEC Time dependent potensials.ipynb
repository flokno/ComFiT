{
 "cells": [
  {
   "cell_type": "markdown",
   "id": "daa2bc39",
   "metadata": {},
   "source": [
    "# 2.2 - BoseEinsteinCondensate tutorial: Time dependent potentials"
   ]
  },
  {
   "cell_type": "markdown",
   "id": "1fa3e78f",
   "metadata": {},
   "source": [
    "In this notebook we are going to illustrate how the potential works in the BoseEinsteinCondensate module. We start by initialising a 2 dimensional BoseEinsteinCondensate with dimensions 101x101. The factor bec.gamma is here set to be non-zero to introduce some dissipation to the model. This is important because the bec with $\\gamma = 0$ conserves energy and will start misbehaving.\n"
   ]
  },
  {
   "cell_type": "code",
   "execution_count": null,
   "id": "9d07ba3d",
   "metadata": {},
   "outputs": [],
   "source": [
    "import comfit as cf\n",
    "import matplotlib.pyplot as plt\n",
    "import numpy as np\n",
    "\n",
    "### Task 1: initialise a bec in two dimensions with resolution 101 in x and y. Make gamma = 0.05 \n",
    "\n"
   ]
  },
  {
   "cell_type": "markdown",
   "id": "e3b75ebe",
   "metadata": {},
   "source": [
    "Now we need to initialize the wavefunction. Before we do that we need to specify the potential. The potential is by default a function given as\n",
    "\n",
    "self.V_ext = lambda: self.V0\n",
    "\n",
    "If you want a potential that is constant in time you can change V0 to the desired value (defult is 0) as we did in the previous notebook.  Now we will discuss how to set a time dependent potential, using the example of a harmonic potential with a Gaussian stirrer. First we have to initialise the wavefunction close to the ground-state and relax it using the fucntion bec.evolve_relax(). \n",
    "\n",
    "Important! the potential has to be a constant during the relaxation!!!!!!!!!!!!!!!!! (at least if you are interested in finding the ground state)\n"
   ]
  },
  {
   "cell_type": "code",
   "execution_count": null,
   "id": "e24de3b6",
   "metadata": {},
   "outputs": [],
   "source": [
    "### First we set the size of the harmonic\n",
    "R_tf = 40\n",
    "\n",
    "### Here we set the size and velocity of the stirrer\n",
    "stirrer_radius = 20\n",
    "stirrer_velocity = 0.6\n",
    "freq = stirrer_velocity/stirrer_radius\n",
    "size =4\n",
    "strength = .9\n",
    "\n",
    "### Defining the function for the time-dependent potential\n",
    "def V_t():\n",
    "    pos_x = bec.xmid + stirrer_radius * np.cos(freq * bec.t)\n",
    "    pos_y = bec.ymid + stirrer_radius * np.sin(freq * bec.t)\n",
    "    stirrer = bec.calc_gaussian_stirring_potential(size, strength, [pos_x, pos_y])\n",
    "    harmonic = bec.calc_harmonic_potential(R_tf)\n",
    "    return   harmonic + stirrer\n",
    "\n"
   ]
  },
  {
   "cell_type": "code",
   "execution_count": null,
   "id": "bfe9ae1b",
   "metadata": {},
   "outputs": [],
   "source": [
    "### Task 2: Set the potential to the bec.t=0 value of the above function, initialise the Thomas Fermi \n",
    "# ground state and relax the system using the  evolve_relax(...) solver for 20 time steps\n",
    "\n",
    "# bec.V0 = ...\n",
    "\n",
    "\n",
    "\n",
    "bec.plot_field(np.abs(bec.psi)**2,cmap_symmetric=False,colormap = 'winter')\n",
    "plt.show()"
   ]
  },
  {
   "cell_type": "markdown",
   "id": "e796de60",
   "metadata": {},
   "source": [
    "After the initial relaxation we can set the potential to be time-dependent using the function bec.conf_time_dependent_potential(V_t)\n",
    "\n",
    "Notize that in V_t() the time dependence has to be through the variable bec.t which is updated in the evolve functions (this is also why the potential has to be set as a constant before the relaxation step). "
   ]
  },
  {
   "cell_type": "code",
   "execution_count": null,
   "id": "43698cc8",
   "metadata": {},
   "outputs": [],
   "source": [
    "\n",
    "### Task 3: Updating the potential to the time-dependent function V_t() that we definded above\n",
    "\n",
    "\n",
    "### Task 4: Evolve the system with the time-dependent potential using the ETD4RK scheme\n",
    "\n",
    "\n",
    "### Task 5: Track the defects and their velocity and plot the result \n",
    "\n"
   ]
  },
  {
   "cell_type": "markdown",
   "id": "e24a8323",
   "metadata": {},
   "source": [
    "Now we set the potential to be time independent and run the system again. The non-zero bec.gamma are going to relax the system.\n",
    "\n",
    "\n",
    "When working with a time dependent sysytem it is nice to make some movies. To do this one needs to use two functions. The first one is cf.tool_save_plot(n) wich saves the plot and label it as n. When all the plots is saved you can cal cf.tool_make_animation(N-1) which takes the figures labeled 0 - (N-1) and makes a plot. It also deletes the figures. The procedure for making a movie is therefore\n",
    "\n",
    "for i in range(N):\n",
    "\n",
    "    evolve(...)\n",
    "    \n",
    "    make_plot(...)\n",
    "    \n",
    "    cf.tool_save_plot(i)\n",
    "   \n",
    "cf.tool_make_animation(i) (notice indent)\n",
    "\n"
   ]
  },
  {
   "cell_type": "code",
   "execution_count": null,
   "id": "44d84073",
   "metadata": {},
   "outputs": [],
   "source": [
    "#### task 6. make an animation of the stirring potential. Evolve 10 or 20 timesteps between each frame for a total \n",
    "#### of 3000 or more timesteps.\n",
    "#### Display both the absolute value squared of the wavefunction and track the vortices.  Notice that in\n",
    "###  order to make the plots apear in the same axes you need to use:\n",
    "###  ax = bec.plot_field(...)\n",
    "###  bec.plot_vortex_nodes(nodes, ax) "
   ]
  },
  {
   "cell_type": "code",
   "execution_count": null,
   "id": "e949d336",
   "metadata": {},
   "outputs": [],
   "source": [
    "bec.V0 = V_t()\n",
    "\n",
    "\n",
    "bec.V_ext = lambda: bec.V0"
   ]
  },
  {
   "cell_type": "code",
   "execution_count": null,
   "id": "3997e7fc",
   "metadata": {},
   "outputs": [],
   "source": [
    "timesteps = 300\n",
    "bec.evolve_dGPE(timesteps,'ETD4RK')\n",
    "\n",
    "timesteps = int(200/bec.dt)\n",
    "bec.plot_field(np.abs(bec.psi)**2,cmap_symmetric=False,colormap = 'winter')\n",
    "plt.show()"
   ]
  },
  {
   "cell_type": "markdown",
   "id": "6008b909",
   "metadata": {},
   "source": [
    "Task 7 (optional): Do the task again, but implement your own time-dependent potential.  "
   ]
  },
  {
   "cell_type": "code",
   "execution_count": null,
   "id": "a13ba953",
   "metadata": {},
   "outputs": [],
   "source": []
  }
 ],
 "metadata": {
  "kernelspec": {
   "display_name": "Python 3 (ipykernel)",
   "language": "python",
   "name": "python3"
  },
  "language_info": {
   "codemirror_mode": {
    "name": "ipython",
    "version": 3
   },
   "file_extension": ".py",
   "mimetype": "text/x-python",
   "name": "python",
   "nbconvert_exporter": "python",
   "pygments_lexer": "ipython3",
   "version": "3.11.5"
  }
 },
 "nbformat": 4,
 "nbformat_minor": 5
}

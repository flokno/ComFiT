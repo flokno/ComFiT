{
 "cells": [
  {
   "cell_type": "code",
   "execution_count": 1,
   "metadata": {},
   "outputs": [
    {
     "name": "stdout",
     "output_type": "stream",
     "text": [
      "Collecting comfit\n",
      "  Downloading comfit-1.3.0-py3-none-any.whl.metadata (355 bytes)\n",
      "Requirement already satisfied: numpy in c:\\users\\vidarsko\\desktop\\comfit\\venv\\lib\\site-packages (from comfit) (1.26.2)\n",
      "Requirement already satisfied: scipy in c:\\users\\vidarsko\\desktop\\comfit\\venv\\lib\\site-packages (from comfit) (1.11.4)\n",
      "Requirement already satisfied: matplotlib in c:\\users\\vidarsko\\desktop\\comfit\\venv\\lib\\site-packages (from comfit) (3.8.2)\n",
      "Requirement already satisfied: scikit-image in c:\\users\\vidarsko\\desktop\\comfit\\venv\\lib\\site-packages (from comfit) (0.22.0)\n",
      "Requirement already satisfied: moviepy in c:\\users\\vidarsko\\desktop\\comfit\\venv\\lib\\site-packages (from comfit) (1.0.3)\n",
      "Requirement already satisfied: imageio in c:\\users\\vidarsko\\desktop\\comfit\\venv\\lib\\site-packages (from comfit) (2.33.0)\n",
      "Requirement already satisfied: pillow>=8.3.2 in c:\\users\\vidarsko\\desktop\\comfit\\venv\\lib\\site-packages (from imageio->comfit) (10.1.0)\n",
      "Requirement already satisfied: contourpy>=1.0.1 in c:\\users\\vidarsko\\desktop\\comfit\\venv\\lib\\site-packages (from matplotlib->comfit) (1.2.0)\n",
      "Requirement already satisfied: cycler>=0.10 in c:\\users\\vidarsko\\desktop\\comfit\\venv\\lib\\site-packages (from matplotlib->comfit) (0.12.1)\n",
      "Requirement already satisfied: fonttools>=4.22.0 in c:\\users\\vidarsko\\desktop\\comfit\\venv\\lib\\site-packages (from matplotlib->comfit) (4.46.0)\n",
      "Requirement already satisfied: kiwisolver>=1.3.1 in c:\\users\\vidarsko\\desktop\\comfit\\venv\\lib\\site-packages (from matplotlib->comfit) (1.4.5)\n",
      "Requirement already satisfied: packaging>=20.0 in c:\\users\\vidarsko\\desktop\\comfit\\venv\\lib\\site-packages (from matplotlib->comfit) (23.2)\n",
      "Requirement already satisfied: pyparsing>=2.3.1 in c:\\users\\vidarsko\\desktop\\comfit\\venv\\lib\\site-packages (from matplotlib->comfit) (3.1.1)\n",
      "Requirement already satisfied: python-dateutil>=2.7 in c:\\users\\vidarsko\\desktop\\comfit\\venv\\lib\\site-packages (from matplotlib->comfit) (2.8.2)\n",
      "Requirement already satisfied: decorator<5.0,>=4.0.2 in c:\\users\\vidarsko\\desktop\\comfit\\venv\\lib\\site-packages (from moviepy->comfit) (4.4.2)\n",
      "Requirement already satisfied: tqdm<5.0,>=4.11.2 in c:\\users\\vidarsko\\desktop\\comfit\\venv\\lib\\site-packages (from moviepy->comfit) (4.66.1)\n",
      "Requirement already satisfied: requests<3.0,>=2.8.1 in c:\\users\\vidarsko\\desktop\\comfit\\venv\\lib\\site-packages (from moviepy->comfit) (2.31.0)\n",
      "Requirement already satisfied: proglog<=1.0.0 in c:\\users\\vidarsko\\desktop\\comfit\\venv\\lib\\site-packages (from moviepy->comfit) (0.1.10)\n",
      "Requirement already satisfied: imageio-ffmpeg>=0.2.0 in c:\\users\\vidarsko\\desktop\\comfit\\venv\\lib\\site-packages (from moviepy->comfit) (0.4.9)\n",
      "Requirement already satisfied: networkx>=2.8 in c:\\users\\vidarsko\\desktop\\comfit\\venv\\lib\\site-packages (from scikit-image->comfit) (3.2.1)\n",
      "Requirement already satisfied: tifffile>=2022.8.12 in c:\\users\\vidarsko\\desktop\\comfit\\venv\\lib\\site-packages (from scikit-image->comfit) (2023.9.26)\n",
      "Requirement already satisfied: lazy_loader>=0.3 in c:\\users\\vidarsko\\desktop\\comfit\\venv\\lib\\site-packages (from scikit-image->comfit) (0.3)\n",
      "Requirement already satisfied: setuptools in c:\\users\\vidarsko\\desktop\\comfit\\venv\\lib\\site-packages (from imageio-ffmpeg>=0.2.0->moviepy->comfit) (58.1.0)\n",
      "Requirement already satisfied: six>=1.5 in c:\\users\\vidarsko\\desktop\\comfit\\venv\\lib\\site-packages (from python-dateutil>=2.7->matplotlib->comfit) (1.16.0)\n",
      "Requirement already satisfied: charset-normalizer<4,>=2 in c:\\users\\vidarsko\\desktop\\comfit\\venv\\lib\\site-packages (from requests<3.0,>=2.8.1->moviepy->comfit) (3.3.2)\n",
      "Requirement already satisfied: idna<4,>=2.5 in c:\\users\\vidarsko\\desktop\\comfit\\venv\\lib\\site-packages (from requests<3.0,>=2.8.1->moviepy->comfit) (3.6)\n",
      "Requirement already satisfied: urllib3<3,>=1.21.1 in c:\\users\\vidarsko\\desktop\\comfit\\venv\\lib\\site-packages (from requests<3.0,>=2.8.1->moviepy->comfit) (2.1.0)\n",
      "Requirement already satisfied: certifi>=2017.4.17 in c:\\users\\vidarsko\\desktop\\comfit\\venv\\lib\\site-packages (from requests<3.0,>=2.8.1->moviepy->comfit) (2023.11.17)\n",
      "Requirement already satisfied: colorama in c:\\users\\vidarsko\\desktop\\comfit\\venv\\lib\\site-packages (from tqdm<5.0,>=4.11.2->moviepy->comfit) (0.4.6)\n",
      "Downloading comfit-1.3.0-py3-none-any.whl (46 kB)\n",
      "   ---------------------------------------- 0.0/46.2 kB ? eta -:--:--\n",
      "   ---------------------------------------- 46.2/46.2 kB 2.2 MB/s eta 0:00:00\n",
      "Installing collected packages: comfit\n",
      "Successfully installed comfit-1.3.0\n"
     ]
    }
   ],
   "source": [
    "!pip install comfit"
   ]
  },
  {
   "cell_type": "code",
   "execution_count": null,
   "metadata": {},
   "outputs": [],
   "source": []
  }
 ],
 "metadata": {
  "kernelspec": {
   "display_name": "venv",
   "language": "python",
   "name": "python3"
  },
  "language_info": {
   "codemirror_mode": {
    "name": "ipython",
    "version": 3
   },
   "file_extension": ".py",
   "mimetype": "text/x-python",
   "name": "python",
   "nbconvert_exporter": "python",
   "pygments_lexer": "ipython3",
   "version": "3.10.4"
  },
  "orig_nbformat": 4
 },
 "nbformat": 4,
 "nbformat_minor": 2
}

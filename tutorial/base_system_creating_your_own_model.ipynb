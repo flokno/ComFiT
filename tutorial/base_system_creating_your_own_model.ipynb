{
 "cells": [
  {
   "cell_type": "markdown",
   "metadata": {},
   "source": [
    "# Base system: Creating your own model\n",
    "\n",
    "In this tutorial, we will use the ComFiT library to create your own model. "
   ]
  },
  {
   "cell_type": "markdown",
   "metadata": {},
   "source": []
  }
 ],
 "metadata": {
  "language_info": {
   "name": "python"
  }
 },
 "nbformat": 4,
 "nbformat_minor": 2
}

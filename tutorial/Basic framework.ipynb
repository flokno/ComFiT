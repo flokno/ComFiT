{
 "cells": [
  {
   "cell_type": "markdown",
   "id": "6fe3ca17",
   "metadata": {},
   "source": [
    "In this notebook we are going to discuss some basic aspects of the framework, using the Bose einstein condensate as an example. We start by initialising a system."
   ]
  },
  {
   "cell_type": "code",
   "execution_count": null,
   "id": "cf58a60f",
   "metadata": {},
   "outputs": [],
   "source": [
    "import comfit as cf\n",
    "import matplotlib.pyplot as plt\n",
    "import numpy as np\n",
    "\n",
    "bec = cf.BEC(2,xRes=101,yRes=101,gamma=0.01,dt=0.1)\n",
    "\n",
    "### setting the system to a homogeneous condensate with a bit of noise \n",
    "bec.conf_initial_condition_disordered(noise_strength=0.05)\n"
   ]
  },
  {
   "cell_type": "markdown",
   "id": "d710832e",
   "metadata": {},
   "source": [
    "Here gamma is a dissipative factor that is removing energy from the system. The last line initialised the system as a homogeneous condensate with a bit of noise and defined the two fields bec.psi and bec.psi_f wich is the wavefunction in real and fourier space. \n",
    "\n",
    "Since the system have periodic boundary conditions we can calculate derivatives in fourier space. We have\n",
    "\n",
    "d f(r)/dx -> i k_x f_f(k). \n",
    "\n",
    "In the module the wave vectors k is given as the variable bec.k, and the x-compinent is bec.k[x]. The combination 1j * bec.k is provided in the bec.dif list. You can therefore find the derivative of the field f in fourier space by running bec.dif*f_f \n",
    "\n"
   ]
  },
  {
   "cell_type": "code",
   "execution_count": null,
   "id": "516e516a",
   "metadata": {},
   "outputs": [],
   "source": [
    "#### task 1: Find the paritial derivative of psi wrt x by differentiating in fourier space\n",
    "#    (hint: use np.fft.ifft2() and bec.psi_f)\n"
   ]
  },
  {
   "cell_type": "markdown",
   "id": "7151d53d",
   "metadata": {},
   "source": [
    "The module contains functions for ploting different types of fields, like plot_field(...) and plot_complex_field(...). "
   ]
  },
  {
   "cell_type": "code",
   "execution_count": null,
   "id": "738e50be",
   "metadata": {},
   "outputs": [],
   "source": [
    "#### task 2: Plott the derivative you found above. \n"
   ]
  },
  {
   "cell_type": "markdown",
   "id": "00491ab8",
   "metadata": {},
   "source": [
    "We also need to evolve the wave function in time. This is done by the evolver functions. The bec has three different evolvers.\n",
    "\n",
    "evolve_relax_BEC(self, number_of_steps, method='ETD2RK') relaxes the system by integrating the Gross-Pitaevskii equation in imaginary time. \n",
    "\n",
    "evolve_dGPE(self, number_of_steps, method='ETD2RK') evolves using the damped Gross-Pitaevskii equation and\n",
    "\n",
    "evolve_comoving_dGPE(self, number_of_steps, velx, method='ETD2RK') evolves the system in the frame moving at speed velx in the x direction (relative to the labframe). This solver allowes for gamma to be spatialy dependent.\n",
    "\n",
    "All the solvers allowes you to choose which solver you want to use. The default is ETD2RK which is a second order solver. The other implemented choise is ETD4RK which is a fourt order solver. For details see the documentation. \n",
    "\n"
   ]
  },
  {
   "cell_type": "code",
   "execution_count": null,
   "id": "7a995849",
   "metadata": {},
   "outputs": [],
   "source": [
    "#### task 3: Evolve the system for 50 timesteps and plot the absolut value of psi.\n",
    "\n"
   ]
  },
  {
   "cell_type": "markdown",
   "id": "524a5219",
   "metadata": {},
   "source": [
    "We now want to look at how to initialise and track topological defects (vortices) in the bec. We can insert a vortex dipole by running the function conf_insert_vortex_dipole(self, dipole_vector=None, dipole_position=None). If the parameters dipole_vector and dipole_position is not given the dipole is put in the midle of the domain with a "
   ]
  }
 ],
 "metadata": {
  "kernelspec": {
   "display_name": "Python 3 (ipykernel)",
   "language": "python",
   "name": "python3"
  },
  "language_info": {
   "codemirror_mode": {
    "name": "ipython",
    "version": 3
   },
   "file_extension": ".py",
   "mimetype": "text/x-python",
   "name": "python",
   "nbconvert_exporter": "python",
   "pygments_lexer": "ipython3",
   "version": "3.11.5"
  }
 },
 "nbformat": 4,
 "nbformat_minor": 5
}

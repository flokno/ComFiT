{
 "cells": [
  {
   "cell_type": "markdown",
   "id": "b5d5fe99",
   "metadata": {},
   "source": [
    "Here we are going to show how the BEC can be evolved in the comoving frame and how the defect tracker works. We start by initialising a BEC with a gaussian potential a bit forward in the computatinal domain. The ground state of this configuration is found by initialising the Thomas-Fermi ground state and evolving this in imaginary time.  "
   ]
  },
  {
   "cell_type": "code",
   "execution_count": null,
   "id": "1bd9260f",
   "metadata": {},
   "outputs": [],
   "source": [
    "import numpy as np\n",
    "import matplotlib.pyplot as plt\n",
    "import comfit as cf\n",
    "\n",
    "bec = cf.BEC(2,xRes=256,yRes=128,gamma=0,dt=0.1)\n",
    "\n",
    "bec.V0 = bec.calc_gaussian_stirring_potential(5,4,[bec.xmid+50,bec.ymid])\n",
    "\n",
    "bec.set_initial_condition_Thomas_Fermi()\n",
    "bec.evolve_relax_BEC(100)\n",
    "\n",
    "bec.plot_field(np.abs(bec.psi)**2,cmap_symmetric=False,colormap = 'winter')\n",
    "plt.show()\n"
   ]
  },
  {
   "cell_type": "markdown",
   "id": "893f0384",
   "metadata": {},
   "source": [
    "Now we sett bec.gamma to be a zero inside the computational domain and 1 on the edges. We also introduce a bit of noise to the wavefunction."
   ]
  },
  {
   "cell_type": "code",
   "execution_count": null,
   "id": "a7915c77",
   "metadata": {},
   "outputs": [],
   "source": [
    "### makes gamma spatialy dependent\n",
    "bec.set_dissipative_frame(wx=100,wy=50)\n",
    "\n",
    "bec.plot_field(bec.gamma,cmap_symmetric=False,colormap = 'winter')\n",
    "plt.show()\n",
    "\n",
    "bec.psi += (0.1*np.random.randn(bec.xRes,bec.yRes)+ 0.1*np.random.randn(bec.xRes,bec.yRes,)*(1j))*np.abs(bec.psi)**2"
   ]
  },
  {
   "cell_type": "markdown",
   "id": "79b98bc6",
   "metadata": {},
   "source": [
    "Now we set the velocity in the x direction to 0.4 and evolve the system in the comoving frame. Notice that the frame is not able to remove all the vortices before they are recycled in the incoming flow.\n",
    "\n",
    "We use the function bec.calc_vortex_nodes() to find the vortices."
   ]
  },
  {
   "cell_type": "code",
   "execution_count": null,
   "id": "da56ea22",
   "metadata": {},
   "outputs": [],
   "source": [
    "\n",
    "\n",
    "vel_x = 0.40\n",
    "\n",
    "\n",
    "t_max = 300\n",
    "timesteps = int(t_max/bec.dt)\n",
    "\n",
    "bec.evolve_comoving_dGPE(timesteps,vel_x,method='ETD4RK')\n",
    "\n",
    "\n",
    "nodes = bec.calc_vortex_nodes()\n",
    "\n",
    "### The above function finds the vortices. We can now plot them using the functions bellow\n",
    "\n",
    "ax=bec.plot_field(np.abs(bec.psi)**2,cmap_symmetric=False,colormap = 'gray')\n",
    "bec.plot_vortex_nodes(nodes,ax)\n",
    "plt.show()\n"
   ]
  },
  {
   "cell_type": "code",
   "execution_count": null,
   "id": "4887dd66",
   "metadata": {},
   "outputs": [],
   "source": []
  },
  {
   "cell_type": "code",
   "execution_count": null,
   "id": "a70b367f",
   "metadata": {},
   "outputs": [],
   "source": []
  },
  {
   "cell_type": "code",
   "execution_count": null,
   "id": "a3541121",
   "metadata": {},
   "outputs": [],
   "source": []
  }
 ],
 "metadata": {
  "kernelspec": {
   "display_name": "Python 3 (ipykernel)",
   "language": "python",
   "name": "python3"
  },
  "language_info": {
   "codemirror_mode": {
    "name": "ipython",
    "version": 3
   },
   "file_extension": ".py",
   "mimetype": "text/x-python",
   "name": "python",
   "nbconvert_exporter": "python",
   "pygments_lexer": "ipython3",
   "version": "3.11.5"
  }
 },
 "nbformat": 4,
 "nbformat_minor": 5
}

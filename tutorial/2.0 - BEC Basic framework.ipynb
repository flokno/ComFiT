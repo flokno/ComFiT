{
 "cells": [
  {
   "cell_type": "markdown",
   "id": "e2dd39b4",
   "metadata": {},
   "source": [
    "In this notebook we are going to discuss some basic aspects of the framework, using the Bose-Einstein condensate as an example. We start by initialising a system."
   ]
  },
  {
   "cell_type": "code",
   "execution_count": null,
   "id": "1f1df21a",
   "metadata": {},
   "outputs": [],
   "source": [
    "import comfit as cf\n",
    "import matplotlib.pyplot as plt\n",
    "import numpy as np\n",
    "\n",
    "bec = cf.BEC(2,xRes=101,yRes=101,gamma=0.01,dt=0.1)\n",
    "\n",
    "### setting the system to a homogeneous condensate. This will be discussed more in the next tutorial \n",
    "bec.conf_initial_condition_Thomas_Fermi()\n"
   ]
  },
  {
   "cell_type": "markdown",
   "id": "5ed021e1",
   "metadata": {},
   "source": [
    "Here gamma is a dissipative factor that is removing energy from the system. The last line initialised the system as a homogeneous condensate, defining the two fields bec.psi and bec.psi_f wich is the wave function in real and fourier space. \n",
    "\n",
    "Since the system have periodic boundary conditions we can calculate derivatives in fourier space. We have\n",
    "\n",
    "d f(r)/dx -> i k_x f_f(k). \n",
    "\n",
    "In the module the wave vectors k is given as the variable bec.k, and the x-compinent is bec.k[x]. The combination 1j * bec.k is provided in the bec.dif list. You can therefore find the x derivative of the field f in fourier space by running bec.dif[0]*f_f \n",
    "\n"
   ]
  },
  {
   "cell_type": "code",
   "execution_count": null,
   "id": "7db21127",
   "metadata": {},
   "outputs": [],
   "source": [
    "#### task 1: Find the paritial derivative of psi wrt x by differentiating in fourier space\n",
    "#    (hint: use np.fft.ifft2() and bec.psi_f)\n"
   ]
  },
  {
   "cell_type": "markdown",
   "id": "6f9837f5",
   "metadata": {},
   "source": [
    "The module contains functions for ploting different types of fields (see previous notebook), like plot_field(...) and plot_complex_field(...). \n",
    "\n",
    "Here is an example of how to cal a plotting function.\n",
    "bec.plot_field(np.abs(bec.psi)**2,cmap_symmetric=False,colormap = 'winter')\n",
    "Remember to set cmap_symmetric = False when ploting\n",
    "something that is not symetric around 0."
   ]
  },
  {
   "cell_type": "code",
   "execution_count": null,
   "id": "cce57e8d",
   "metadata": {},
   "outputs": [],
   "source": [
    "#### task 2: Plott the derivative you found above. It will look a bit strange\n"
   ]
  },
  {
   "cell_type": "markdown",
   "id": "c0a0fbe1",
   "metadata": {},
   "source": [
    "We also need to evolve the wave function in time. This is done by the evolver functions. The bec has three different evolvers.\n",
    "\n",
    "bec.evolve_relax_BEC( number_of_steps, method='ETD2RK') relaxes the system by integrating the Gross-Pitaevskii equation in imaginary time. \n",
    "\n",
    "bec.evolve_dGPE( number_of_steps, method='ETD2RK') evolves using the damped Gross-Pitaevskii equation and\n",
    "\n",
    "bec.evolve_comoving_dGPE(number_of_steps, velx, method='ETD2RK') evolves the system in the frame moving at speed velx in the x direction (relative to the labframe). This solver allowes for gamma to be spatialy dependent.\n",
    "\n",
    "All the evolvers allowes you to choose which solver you want to use. The default is ETD2RK which is a second order solver. The other implemented choise is ETD4RK which is fourt order. For details see the documentation or bully Vidar. \n",
    "\n"
   ]
  },
  {
   "cell_type": "code",
   "execution_count": null,
   "id": "395be236",
   "metadata": {},
   "outputs": [],
   "source": [
    "#### task 3: Evolve the system for 50 timesteps and plot the absolut value of psi.\n",
    "\n"
   ]
  },
  {
   "cell_type": "markdown",
   "id": "29799125",
   "metadata": {},
   "source": [
    "We now want to look at how to initialise and track topological defects (vortices) in the bec. We can insert a vortex dipole by running the function conf_insert_vortex_dipole(self, dipole_vector=None, dipole_position=None). If the parameters dipole_vector and dipole_position is not given the dipole is put in the midle of the domain. After this one should relax the system with evolve_relax_BEC(...) to get the right core structure. \n",
    "\n"
   ]
  },
  {
   "cell_type": "code",
   "execution_count": null,
   "id": "3b450baf",
   "metadata": {},
   "outputs": [],
   "source": [
    "### task 4: initialise a dipole at your favoritt position and relax the system for 10 timesteps. Plot the absolute \n",
    "# value of psi\n",
    "\n"
   ]
  },
  {
   "cell_type": "markdown",
   "id": "43d0569c",
   "metadata": {},
   "source": [
    "Tracking of defects can be done using the function calc_vortex_nodes(self, dt_psi=None) that finds the position and charge of the defects. If dt_psi is provided it will also find the defects' velocity. The output of this function is an array of vortex dictionaries.\n",
    "\n",
    "In the vortex dictionary the vortx's position is saved under the key word 'position', the charge under 'charge' and the velocity under 'velocity'. \n",
    "\n",
    "Once this array is found the vortices can be ploted using the function \n",
    "plot_vortex_nodes(self, vortex_nodes, ax=None), where vortex_nodes is the array of dictionaries that where found with calc_vortex_nodes(self, dt_psi=None) \n",
    "\n"
   ]
  },
  {
   "cell_type": "code",
   "execution_count": null,
   "id": "730c8e3e",
   "metadata": {},
   "outputs": [],
   "source": [
    "### task 5: evolve the system 50 time-steps.\n",
    "\n",
    "### task 6: find dt_psi (hint use the evolver a few time steps and the variable bec.dt).\n",
    "# Use this to find the defects and their velocity. Using the function bec.calc_vortex_nodes( dt_psi) \n",
    "#Plot the defect positions on top of a plot of the absolute value squared of the wavefunction\n",
    "#(the colormap 'gray' look very nice for this)\n",
    "\n",
    "\n",
    "### task 7: try making gamma larger and see what effect this has "
   ]
  }
 ],
 "metadata": {
  "kernelspec": {
   "display_name": "Python 3 (ipykernel)",
   "language": "python",
   "name": "python3"
  },
  "language_info": {
   "codemirror_mode": {
    "name": "ipython",
    "version": 3
   },
   "file_extension": ".py",
   "mimetype": "text/x-python",
   "name": "python",
   "nbconvert_exporter": "python",
   "pygments_lexer": "ipython3",
   "version": "3.11.5"
  }
 },
 "nbformat": 4,
 "nbformat_minor": 5
}

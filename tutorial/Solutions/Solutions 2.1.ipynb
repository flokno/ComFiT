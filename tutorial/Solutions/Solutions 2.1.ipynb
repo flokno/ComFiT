{
 "cells": [
  {
   "cell_type": "code",
   "execution_count": null,
   "id": "911de639",
   "metadata": {},
   "outputs": [],
   "source": [
    "import numpy as np\n",
    "import matplotlib.pyplot as plt\n",
    "import comfit as cf\n",
    "\n",
    "bec = cf.BoseEinsteinCondensate(2,xRes=256,yRes=128,gamma=0,dt=0.1)\n",
    "\n",
    "### task 1 and 2\n",
    "\n",
    "\n",
    "bec.V0 = bec.calc_gaussian_stirring_potential(5, 4, [bec.xmid+50,bec.ymid] )\n",
    "\n",
    "bec.conf_initial_condition_Thomas_Fermi()\n",
    "\n",
    "bec.evolve_relax_BoseEinsteinCondensate(50, method='ETD2RK') \n",
    "\n",
    "bec.plot_field(np.abs(bec.psi)**2,cmap_symmetric=False,colormap = 'winter')\n",
    "plt.show()"
   ]
  },
  {
   "cell_type": "code",
   "execution_count": null,
   "id": "f1698aeb",
   "metadata": {},
   "outputs": [],
   "source": [
    "# task 3\n",
    "bec.conf_dissipative_frame(wx=100,wy=50)\n",
    "\n",
    "bec.plot_field(bec.gamma,cmap_symmetric=False,colormap = 'winter')\n",
    "plt.show()\n",
    "\n",
    "\n"
   ]
  },
  {
   "cell_type": "code",
   "execution_count": null,
   "id": "0c2f3d9a",
   "metadata": {},
   "outputs": [],
   "source": [
    "#task 4\n",
    "vel_x = 0.40\n",
    "\n",
    "\n",
    "t_max = 300\n",
    "timesteps = int(t_max/bec.dt)\n",
    "\n",
    "bec.evolve_comoving_dGPE(timesteps,vel_x,method='ETD4RK')\n",
    "N=10\n",
    "psi_old = bec.psi\n",
    "bec.evolve_comoving_dGPE(N,vel_x)\n",
    "dt_psi = (bec.psi-psi_old)/(N*bec.dt)\n",
    "\n",
    "nodes = bec.calc_vortex_nodes(dt_psi)"
   ]
  },
  {
   "cell_type": "code",
   "execution_count": null,
   "id": "7d5c2de6",
   "metadata": {},
   "outputs": [],
   "source": [
    "ax=bec.plot_field(np.abs(bec.psi)**2,cmap_symmetric=False,colormap = 'gray')\n",
    "bec.plot_vortex_nodes(nodes,ax)\n",
    "plt.show()"
   ]
  },
  {
   "cell_type": "code",
   "execution_count": null,
   "id": "66508318",
   "metadata": {},
   "outputs": [],
   "source": []
  }
 ],
 "metadata": {
  "kernelspec": {
   "display_name": "Python 3 (ipykernel)",
   "language": "python",
   "name": "python3"
  },
  "language_info": {
   "codemirror_mode": {
    "name": "ipython",
    "version": 3
   },
   "file_extension": ".py",
   "mimetype": "text/x-python",
   "name": "python",
   "nbconvert_exporter": "python",
   "pygments_lexer": "ipython3",
   "version": "3.11.5"
  }
 },
 "nbformat": 4,
 "nbformat_minor": 5
}

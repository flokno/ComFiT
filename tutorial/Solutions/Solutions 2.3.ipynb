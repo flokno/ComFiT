{
 "cells": [
  {
   "cell_type": "code",
   "execution_count": null,
   "id": "72b1a5bc",
   "metadata": {},
   "outputs": [],
   "source": [
    "import numpy as np\n",
    "import matplotlib.pyplot as plt\n",
    "import comfit as cf\n",
    "\n",
    "\n",
    "bec = cf.BEC(3,xRes=64,yRes=64,zRes=64,gamma=0,dt=0.1)\n",
    "\n",
    "bec.V0 = bec.calc_gaussian_stirring_potential(2,4,[bec.xmid,bec.ymid,bec.zmid])\n",
    "\n",
    "bec.conf_initial_condition_Thomas_Fermi()\n",
    "bec.evolve_relax_BEC(100)\n",
    "\n",
    "bec.plot_field(np.abs(bec.psi)**2)\n",
    "plt.show()\n"
   ]
  },
  {
   "cell_type": "code",
   "execution_count": null,
   "id": "da84a8af",
   "metadata": {},
   "outputs": [],
   "source": [
    "bec.conf_dissipative_frame(wx=25,wy=25,wz=25)\n",
    "\n",
    "bec.plot_field(bec.gamma)\n",
    "plt.show()"
   ]
  },
  {
   "cell_type": "code",
   "execution_count": null,
   "id": "e9d05e69",
   "metadata": {},
   "outputs": [],
   "source": [
    "bec.psi += (0.01*np.random.randn(bec.xRes,bec.yRes,bec.zRes)+ 0.01*np.random.randn(bec.xRes,bec.yRes,bec.zRes)*(1j))*np.abs(bec.psi)**2\n",
    "bec.psi_f = np.fft.fftn(bec.psi)\n",
    "vel_x = 0.8\n",
    "\n",
    "t_max = 300\n",
    "\n",
    "timesteps = int(t_max/bec.dt)\n",
    "\n",
    "\n",
    "bec.evolve_comoving_dGPE(timesteps,vel_x,method='ETD4RK')\n",
    "\n",
    "\n",
    "nodes =  bec.calc_vortex_nodes()    \n",
    "\n",
    "#ax=bec.plot_field(np.abs(bec.psi)**2,cmap_symmetric=False)\n",
    "bec.plot_vortex_nodes(nodes)\n",
    "plt.show()"
   ]
  },
  {
   "cell_type": "code",
   "execution_count": null,
   "id": "65f25f60",
   "metadata": {},
   "outputs": [],
   "source": []
  }
 ],
 "metadata": {
  "kernelspec": {
   "display_name": "Python 3 (ipykernel)",
   "language": "python",
   "name": "python3"
  },
  "language_info": {
   "codemirror_mode": {
    "name": "ipython",
    "version": 3
   },
   "file_extension": ".py",
   "mimetype": "text/x-python",
   "name": "python",
   "nbconvert_exporter": "python",
   "pygments_lexer": "ipython3",
   "version": "3.11.5"
  }
 },
 "nbformat": 4,
 "nbformat_minor": 5
}

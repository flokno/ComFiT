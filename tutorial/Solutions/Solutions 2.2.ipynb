{
 "cells": [
  {
   "cell_type": "code",
   "execution_count": null,
   "id": "2e007221",
   "metadata": {},
   "outputs": [],
   "source": [
    "import comfit as cf\n",
    "import matplotlib.pyplot as plt\n",
    "import numpy as np\n",
    "\n",
    "### Task 1: initialise a bec in two dimensions with resolution 101 in x and y. Make gamma = 0.05 \n",
    "bec = cf.BoseEinsteinCondensate(2,xRes=101,yRes=101,gamma=0.05,dt=0.1)\n",
    "\n",
    "### First we set the size of the harmonic\n",
    "R_tf = 40\n",
    "\n",
    "### Here we set the size and velocity of the stirrer\n",
    "stirrer_radius = 20\n",
    "stirrer_velocity = 0.6\n",
    "freq = stirrer_velocity/stirrer_radius\n",
    "size =4\n",
    "strength = .9\n",
    "\n",
    "### Defining the function for the time-dependent potential\n",
    "def V_t():\n",
    "    pos_x = bec.xmid + stirrer_radius * np.cos(freq * bec.t)\n",
    "    pos_y = bec.ymid + stirrer_radius * np.sin(freq * bec.t)\n",
    "    stirrer = bec.calc_gaussian_stirring_potential(size, strength, [pos_x, pos_y])\n",
    "    harmonic = bec.calc_harmonic_potential(R_tf)\n",
    "    return   harmonic + stirrer\n",
    "\n",
    "\n",
    "\n",
    "\n"
   ]
  },
  {
   "cell_type": "code",
   "execution_count": null,
   "id": "4b9a7b9c",
   "metadata": {},
   "outputs": [],
   "source": [
    "######## task 2 #########\n",
    "bec.V0 = V_t()\n",
    "\n",
    "bec.conf_initial_condition_Thomas_Fermi()\n",
    "\n",
    "bec.evolve_relax_BoseEinsteinCondensate(50) \n",
    "\n",
    "bec.plot_field(np.abs(bec.psi)**2,cmap_symmetric=False,colormap = 'winter')\n",
    "plt.show()"
   ]
  },
  {
   "cell_type": "code",
   "execution_count": null,
   "id": "5b3e8f51",
   "metadata": {},
   "outputs": [],
   "source": [
    "#### task 3, 4 and 5\n",
    "\n",
    "bec.conf_time_dependent_potential(V_t)\n",
    "\n",
    "bec.evolve_dGPE( 3000, method='ETD4RK') \n",
    "\n",
    "nodes = bec.calc_vortex_nodes()\n",
    "\n",
    "ax=bec.plot_field(np.abs(bec.psi)**2,cmap_symmetric=False,colormap = 'gray')\n",
    "bec.plot_vortex_nodes(nodes,ax)\n",
    "plt.show()"
   ]
  },
  {
   "cell_type": "code",
   "execution_count": null,
   "id": "69dc3e4d",
   "metadata": {},
   "outputs": [],
   "source": [
    "bec.V0 = V_t()\n",
    "\n",
    "\n",
    "bec.V_ext = lambda: bec.V0\n",
    "\n",
    "timesteps = int(200/bec.dt)\n",
    "bec.evolve_dGPE(timesteps,'ETD4RK')\n",
    "\n",
    "\n",
    "bec.plot_field(np.abs(bec.psi)**2,cmap_symmetric=False,colormap = 'winter')\n",
    "plt.show()"
   ]
  },
  {
   "cell_type": "code",
   "execution_count": null,
   "id": "ee5899cc",
   "metadata": {},
   "outputs": [],
   "source": []
  }
 ],
 "metadata": {
  "kernelspec": {
   "display_name": "Python 3 (ipykernel)",
   "language": "python",
   "name": "python3"
  },
  "language_info": {
   "codemirror_mode": {
    "name": "ipython",
    "version": 3
   },
   "file_extension": ".py",
   "mimetype": "text/x-python",
   "name": "python",
   "nbconvert_exporter": "python",
   "pygments_lexer": "ipython3",
   "version": "3.11.5"
  }
 },
 "nbformat": 4,
 "nbformat_minor": 5
}

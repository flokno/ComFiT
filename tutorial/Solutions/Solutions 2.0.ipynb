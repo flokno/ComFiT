{
 "cells": [
  {
   "cell_type": "code",
   "execution_count": null,
   "id": "72d110b8",
   "metadata": {},
   "outputs": [],
   "source": [
    "import comfit as cf\n",
    "import matplotlib.pyplot as plt\n",
    "import numpy as np\n",
    "\n",
    "bec = cf.BoseEinsteinCondensate(2,xRes=101,yRes=101,gamma=0.01,dt=0.1)\n",
    "\n",
    "### setting the system to a homogeneous condensate \n",
    "bec.conf_initial_condition_Thomas_Fermi()\n",
    "\n",
    "#### task 1 and 2\n",
    "dphidx = np.fft.ifft2(bec.dif[0]*bec.psi_f)\n",
    "\n",
    "bec.plot_complex_field(dphidx)\n",
    "plt.show()"
   ]
  },
  {
   "cell_type": "code",
   "execution_count": null,
   "id": "960f4123",
   "metadata": {},
   "outputs": [],
   "source": [
    "# task 3\n",
    "bec.evolve_dGPE(50)\n",
    "\n",
    "bec.plot_field(np.abs(bec.psi)**2,cmap_symmetric=False,colormap = 'winter')\n",
    "plt.show()\n"
   ]
  },
  {
   "cell_type": "code",
   "execution_count": null,
   "id": "f8252769",
   "metadata": {},
   "outputs": [],
   "source": [
    "#Task 4\n",
    "bec.conf_insert_vortex_dipole( )\n",
    "\n",
    "bec.evolve_relax( 10) \n",
    "\n",
    "bec.plot_field(np.abs(bec.psi)**2,cmap_symmetric=False,colormap = 'winter' )\n",
    "plt.show()"
   ]
  },
  {
   "cell_type": "code",
   "execution_count": null,
   "id": "68bdae7e",
   "metadata": {},
   "outputs": [],
   "source": [
    "bec.evolve_dGPE(100)\n",
    "psi_old = bec.psi\n",
    "N=10\n",
    "bec.evolve_dGPE(N)\n",
    "dt_psi = (bec.psi-psi_old)/(N*bec.dt)\n",
    "\n",
    "\n",
    "\n",
    "nodes = bec.calc_vortex_nodes(dt_psi) \n",
    "\n",
    "ax=bec.plot_field(np.abs(bec.psi)**2,cmap_symmetric=False,colormap = 'gray')\n",
    "bec.plot_vortex_nodes(nodes,ax)\n",
    "plt.show()"
   ]
  },
  {
   "cell_type": "code",
   "execution_count": null,
   "id": "237aa39f",
   "metadata": {},
   "outputs": [],
   "source": []
  }
 ],
 "metadata": {
  "kernelspec": {
   "display_name": "Python 3 (ipykernel)",
   "language": "python",
   "name": "python3"
  },
  "language_info": {
   "codemirror_mode": {
    "name": "ipython",
    "version": 3
   },
   "file_extension": ".py",
   "mimetype": "text/x-python",
   "name": "python",
   "nbconvert_exporter": "python",
   "pygments_lexer": "ipython3",
   "version": "3.11.5"
  }
 },
 "nbformat": 4,
 "nbformat_minor": 5
}

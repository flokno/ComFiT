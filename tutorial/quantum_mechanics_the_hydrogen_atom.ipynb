{
 "cells": [
  {
   "cell_type": "markdown",
   "metadata": {},
   "source": [
    "# Quantum Mechanics: The hydrogen atom"
   ]
  },
  {
   "cell_type": "markdown",
   "metadata": {},
   "source": [
    "In this tutorial, we will explore the hydrogen atom. We will start by solving the Schrödinger equation for the hydrogen atom, and then we will use the results to calculate the energy levels and the wave functions of the hydrogen atom. We will also visualize the wave functions and the probability density of the hydrogen atom.\n",
    "\n",
    "But first, let's install ComFiT"
   ]
  },
  {
   "cell_type": "code",
   "execution_count": null,
   "metadata": {},
   "outputs": [],
   "source": [
    "!pip uninstall -y comfit"
   ]
  },
  {
   "cell_type": "markdown",
   "metadata": {},
   "source": [
    "Then, we import it."
   ]
  },
  {
   "cell_type": "code",
   "execution_count": 1,
   "metadata": {},
   "outputs": [],
   "source": [
    "import comfit as cf"
   ]
  },
  {
   "cell_type": "markdown",
   "metadata": {},
   "source": [
    "As explained in the [documentation](https://vidarsko.github.io/ComFiT/ClassQuantumMechanics/),we are already using natural units for this problem.\n",
    "Let's see why. \n",
    "The Schrödinger equation for the hydrogen atom is given by\n",
    "\n",
    "$$\n",
    "\\left( -\\frac{\\hbar^2}{2m} \\nabla^2 - \\frac{e^2}{4\\pi\\epsilon_0 r} \\right) \\psi = E \\psi,\n",
    "$$\n",
    "\n",
    "where $\\hbar$ is the reduced Planck constant, $m$ is the mass of the electron, $e$ is the elementary charge, $\\epsilon_0$ is the vacuum permittivity, $r$ is the distance from the nucleus, $\\psi$ is the wave function, and $E$ is the energy of the electron. \n",
    "We are expressing the potential in units of the Hartree energy, which is defined as\n",
    "\n",
    "$$\n",
    "E_h = \\frac{e^2}{4\\pi\\epsilon_0 a_0} \n",
    "$$\n",
    "\n",
    "where $a_0$ is the Bohr radius, which means that when expressing the Schroedinger equation in these units, the time-independent Schrödinger equation for the hydrogen atom becomes\n",
    "\n",
    "$$\n",
    "\\left( -\\frac{1}{2} \\nabla^2 - \\frac{1}{r} \\right) \\psi = E \\psi.\n",
    "$$\n",
    "\n",
    "## Two dimensions\n",
    "\n",
    "We will first solve this equation in two dimensions. We will use the separation of variables method to solve the Schrödinger equation. We will assume that the wave function can be written as the product of a radial part and an angular part, i.e.,\n",
    "\n",
    "$$\n",
    "\\psi(r, \\theta) = R(r) \\Theta(\\theta).\n",
    "$$\n",
    "\n",
    "We will then substitute this expression into the Schrödinger equation and separate the variables. We will then solve the resulting equations for the radial and angular parts of the wave function.\n",
    "Expressing the Laplacian in polar coordinates, we have\n",
    "\n",
    "$$\n",
    "\\left( -\\frac{1}{2} \\frac{1}{r} \\partial_r (r \\partial_r )  - \\frac{1}{2} \\frac{1}{r^2} \\partial_\\theta^2  - \\frac{1}{r} \\right) R(r) \\Theta(\\theta)   = E R(r) \\Theta(\\theta).\n",
    "$$\n",
    "\n",
    "Suppressing the explicit dependence on $r$ and $\\theta$, we can write this equation as\n",
    "\n",
    "$$\n",
    " - \\Theta \\frac{1}{2} \\frac{1}{r} \\partial_r (r \\partial_r ) R  - R \\frac{1}{2} \\frac{1}{r^2} \\partial_\\theta^2 \\Theta  -  \\Theta R \\frac{1}{r}   = E R(r) \\Theta(\\theta).\n",
    "$$\n",
    "\n",
    "Dividing by $R\\Theta$, we obtain\n",
    "\n",
    "$$\n",
    " - \\frac{1}{R} \\frac{1}{2} \\frac{1}{r} \\partial_r (r \\partial_r ) R  - \\frac{1}{\\Theta} \\frac{1}{2} \\frac{1}{r^2} \\partial_\\theta^2 \\Theta  -  \\Theta R \\frac{1}{r}   = E R(r) \\Theta(\\theta).\n",
    "$$\n",
    "\n"
   ]
  },
  {
   "cell_type": "code",
   "execution_count": 2,
   "metadata": {},
   "outputs": [],
   "source": [
    "qm = cf.QuantumMechanics(3,xlim=[-2,2],ylim=[-2,2],zlim=[-2,2])"
   ]
  },
  {
   "cell_type": "code",
   "execution_count": 4,
   "metadata": {},
   "outputs": [],
   "source": []
  },
  {
   "cell_type": "code",
   "execution_count": 7,
   "metadata": {},
   "outputs": [],
   "source": []
  },
  {
   "cell_type": "code",
   "execution_count": 8,
   "metadata": {},
   "outputs": [
    {
     "ename": "UnboundLocalError",
     "evalue": "cannot access local variable 'plotting_lib' where it is not associated with a value",
     "output_type": "error",
     "traceback": [
      "\u001b[1;31m---------------------------------------------------------------------------\u001b[0m",
      "\u001b[1;31mUnboundLocalError\u001b[0m                         Traceback (most recent call last)",
      "Cell \u001b[1;32mIn[8], line 1\u001b[0m\n\u001b[1;32m----> 1\u001b[0m \u001b[43mqm\u001b[49m\u001b[38;5;241;43m.\u001b[39;49m\u001b[43mplot_complex_field\u001b[49m\u001b[43m(\u001b[49m\u001b[43mqm\u001b[49m\u001b[38;5;241;43m.\u001b[39;49m\u001b[43mpsi\u001b[49m\u001b[43m)\u001b[49m\n",
      "File \u001b[1;32mc:\\Users\\vidar\\Desktop\\ComFiT\\venv\\Lib\\site-packages\\comfit\\core\\base_system.py:1632\u001b[0m, in \u001b[0;36mBaseSystem.plot_complex_field\u001b[1;34m(self, complex_field, **kwargs)\u001b[0m\n\u001b[0;32m   1628\u001b[0m theta \u001b[38;5;241m=\u001b[39m np\u001b[38;5;241m.\u001b[39mangle(complex_field)\n\u001b[0;32m   1630\u001b[0m colormap \u001b[38;5;241m=\u001b[39m tool_colormap_angle()\n\u001b[1;32m-> 1632\u001b[0m \u001b[38;5;28;01mif\u001b[39;00m \u001b[43mplotting_lib\u001b[49m \u001b[38;5;241m==\u001b[39m \u001b[38;5;124m'\u001b[39m\u001b[38;5;124mmatplotlib\u001b[39m\u001b[38;5;124m'\u001b[39m:\n\u001b[0;32m   1633\u001b[0m     ax \u001b[38;5;241m=\u001b[39m kwargs\u001b[38;5;241m.\u001b[39mget(\u001b[38;5;124m'\u001b[39m\u001b[38;5;124max\u001b[39m\u001b[38;5;124m'\u001b[39m, \u001b[38;5;28;01mNone\u001b[39;00m)\n\u001b[0;32m   1635\u001b[0m     \u001b[38;5;28;01mif\u001b[39;00m ax \u001b[38;5;241m==\u001b[39m \u001b[38;5;28;01mNone\u001b[39;00m:\n",
      "\u001b[1;31mUnboundLocalError\u001b[0m: cannot access local variable 'plotting_lib' where it is not associated with a value"
     ]
    }
   ],
   "source": []
  },
  {
   "cell_type": "code",
   "execution_count": 9,
   "metadata": {},
   "outputs": [
    {
     "name": "stdout",
     "output_type": "stream",
     "text": [
      "Found existing installation: comfit 1.3.0\n",
      "Uninstalling comfit-1.3.0:\n",
      "  Successfully uninstalled comfit-1.3.0\n"
     ]
    }
   ],
   "source": []
  },
  {
   "cell_type": "code",
   "execution_count": null,
   "metadata": {},
   "outputs": [],
   "source": []
  }
 ],
 "metadata": {
  "kernelspec": {
   "display_name": "venv",
   "language": "python",
   "name": "python3"
  },
  "language_info": {
   "codemirror_mode": {
    "name": "ipython",
    "version": 3
   },
   "file_extension": ".py",
   "mimetype": "text/x-python",
   "name": "python",
   "nbconvert_exporter": "python",
   "pygments_lexer": "ipython3",
   "version": "3.11.5"
  }
 },
 "nbformat": 4,
 "nbformat_minor": 2
}

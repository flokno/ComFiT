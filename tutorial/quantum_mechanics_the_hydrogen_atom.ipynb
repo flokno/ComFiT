{
 "cells": [
  {
   "cell_type": "markdown",
   "metadata": {},
   "source": [
    "# Quantum Mechanics: The hydrogen atom"
   ]
  },
  {
   "cell_type": "code",
   "execution_count": 1,
   "metadata": {},
   "outputs": [],
   "source": [
    "import comfit as cf"
   ]
  },
  {
   "cell_type": "code",
   "execution_count": 2,
   "metadata": {},
   "outputs": [],
   "source": [
    "qm = cf.QuantumMechanics(3,xlim=[-2,2],ylim=[-2,2],zlim=[-2,2])"
   ]
  },
  {
   "cell_type": "code",
   "execution_count": 4,
   "metadata": {},
   "outputs": [],
   "source": [
    "import numpy as np\n",
    "from scipy.special import sph_harm, genlaguerre\n",
    "from scipy.constants import epsilon_0, hbar, e, m_e\n",
    "\n",
    "def radial_wavefunction(n, l, r):\n",
    "    \"\"\"\n",
    "    Calculate the radial part of the hydrogen atom wavefunction.\n",
    "    \n",
    "    Parameters:\n",
    "    - n: Principal quantum number\n",
    "    - l: Orbital quantum number\n",
    "    - r: Radial distance\n",
    "    \n",
    "    Returns:\n",
    "    - R_nl: The radial part of the wavefunction\n",
    "    \"\"\"\n",
    "    # Normalization constant\n",
    "    a0 = 4 * np.pi * epsilon_0 * hbar**2 / (m_e * e**2)  # Bohr radius\n",
    "    rho = 2 * r / (n * a0)\n",
    "    normalization = np.sqrt((2 / (n * a0))**3 * np.math.factorial(n - l - 1) / (2 * n * np.math.factorial(n + l)))\n",
    "    # Radial part\n",
    "    L_nl = genlaguerre(n-l-1, 2*l+1)  # Associated Laguerre polynomial\n",
    "    R_nl = normalization * np.exp(-rho / 2) * rho**l * L_nl(rho)\n",
    "    return R_nl\n",
    "\n",
    "def angular_wavefunction(l, m, theta, phi):\n",
    "    \"\"\"\n",
    "    Calculate the angular part of the hydrogen atom wavefunction.\n",
    "    \n",
    "    Parameters:\n",
    "    - l: Orbital quantum number\n",
    "    - m: Magnetic quantum number\n",
    "    - theta: Colatitude (angle from the z-axis)\n",
    "    - phi: Azimuthal angle (angle from the x-axis in the xy-plane)\n",
    "    \n",
    "    Returns:\n",
    "    - Y_lm: The angular part of the wavefunction (spherical harmonics)\n",
    "    \"\"\"\n",
    "    Y_lm = sph_harm(m, l, phi, theta)\n",
    "    return Y_lm\n",
    "\n",
    "def hydrogen_wavefunction(n, l, m, r, theta, phi):\n",
    "    \"\"\"\n",
    "    Calculate the hydrogen atom wavefunction.\n",
    "    \n",
    "    Parameters:\n",
    "    - n: Principal quantum number\n",
    "    - l: Orbital quantum number\n",
    "    - m: Magnetic quantum number\n",
    "    - r: Radial distance\n",
    "    - theta: Colatitude\n",
    "    - phi: Azimuthal angle\n",
    "    \n",
    "    Returns:\n",
    "    - psi: The hydrogen atom wavefunction\n",
    "    \"\"\"\n",
    "    R_nl = radial_wavefunction(n, l, r)\n",
    "    Y_lm = angular_wavefunction(l, m, theta, phi)\n",
    "    psi = R_nl * Y_lm\n",
    "    return psi"
   ]
  },
  {
   "cell_type": "code",
   "execution_count": 7,
   "metadata": {},
   "outputs": [],
   "source": [
    "r = np.sqrt(qm.x**2 + qm.y**2 + qm.z**2)\n",
    "theta = np.arccos(qm.z / r)\n",
    "phi = np.arctan2(qm.y, qm.x)\n",
    "\n",
    "qm.psi = hydrogen_wavefunction(1, 0, 0, r, theta, phi)"
   ]
  },
  {
   "cell_type": "code",
   "execution_count": 8,
   "metadata": {},
   "outputs": [
    {
     "ename": "UnboundLocalError",
     "evalue": "cannot access local variable 'plotting_lib' where it is not associated with a value",
     "output_type": "error",
     "traceback": [
      "\u001b[1;31m---------------------------------------------------------------------------\u001b[0m",
      "\u001b[1;31mUnboundLocalError\u001b[0m                         Traceback (most recent call last)",
      "Cell \u001b[1;32mIn[8], line 1\u001b[0m\n\u001b[1;32m----> 1\u001b[0m \u001b[43mqm\u001b[49m\u001b[38;5;241;43m.\u001b[39;49m\u001b[43mplot_complex_field\u001b[49m\u001b[43m(\u001b[49m\u001b[43mqm\u001b[49m\u001b[38;5;241;43m.\u001b[39;49m\u001b[43mpsi\u001b[49m\u001b[43m)\u001b[49m\n",
      "File \u001b[1;32mc:\\Users\\vidar\\Desktop\\ComFiT\\venv\\Lib\\site-packages\\comfit\\core\\base_system.py:1632\u001b[0m, in \u001b[0;36mBaseSystem.plot_complex_field\u001b[1;34m(self, complex_field, **kwargs)\u001b[0m\n\u001b[0;32m   1628\u001b[0m theta \u001b[38;5;241m=\u001b[39m np\u001b[38;5;241m.\u001b[39mangle(complex_field)\n\u001b[0;32m   1630\u001b[0m colormap \u001b[38;5;241m=\u001b[39m tool_colormap_angle()\n\u001b[1;32m-> 1632\u001b[0m \u001b[38;5;28;01mif\u001b[39;00m \u001b[43mplotting_lib\u001b[49m \u001b[38;5;241m==\u001b[39m \u001b[38;5;124m'\u001b[39m\u001b[38;5;124mmatplotlib\u001b[39m\u001b[38;5;124m'\u001b[39m:\n\u001b[0;32m   1633\u001b[0m     ax \u001b[38;5;241m=\u001b[39m kwargs\u001b[38;5;241m.\u001b[39mget(\u001b[38;5;124m'\u001b[39m\u001b[38;5;124max\u001b[39m\u001b[38;5;124m'\u001b[39m, \u001b[38;5;28;01mNone\u001b[39;00m)\n\u001b[0;32m   1635\u001b[0m     \u001b[38;5;28;01mif\u001b[39;00m ax \u001b[38;5;241m==\u001b[39m \u001b[38;5;28;01mNone\u001b[39;00m:\n",
      "\u001b[1;31mUnboundLocalError\u001b[0m: cannot access local variable 'plotting_lib' where it is not associated with a value"
     ]
    }
   ],
   "source": [
    "qm.plot_complex_field(qm.psi)"
   ]
  },
  {
   "cell_type": "code",
   "execution_count": 9,
   "metadata": {},
   "outputs": [
    {
     "name": "stdout",
     "output_type": "stream",
     "text": [
      "Found existing installation: comfit 1.3.0\n",
      "Uninstalling comfit-1.3.0:\n",
      "  Successfully uninstalled comfit-1.3.0\n"
     ]
    }
   ],
   "source": [
    "!pip uninstall -y comfit"
   ]
  },
  {
   "cell_type": "code",
   "execution_count": null,
   "metadata": {},
   "outputs": [],
   "source": []
  }
 ],
 "metadata": {
  "kernelspec": {
   "display_name": "venv",
   "language": "python",
   "name": "python3"
  },
  "language_info": {
   "codemirror_mode": {
    "name": "ipython",
    "version": 3
   },
   "file_extension": ".py",
   "mimetype": "text/x-python",
   "name": "python",
   "nbconvert_exporter": "python",
   "pygments_lexer": "ipython3",
   "version": "3.11.5"
  }
 },
 "nbformat": 4,
 "nbformat_minor": 2
}

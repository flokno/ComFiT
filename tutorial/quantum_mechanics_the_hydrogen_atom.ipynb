{
 "cells": [
  {
   "cell_type": "markdown",
   "metadata": {},
   "source": [
    "# Quantum Mechanics: The hydrogen atom"
   ]
  },
  {
   "cell_type": "markdown",
   "metadata": {},
   "source": [
    "In this tutorial, we will explore the hydrogen atom. We will start by solving the Schrödinger equation for the hydrogen atom, and then we will use the results to calculate the energy levels and the wave functions of the hydrogen atom. We will also visualize the wave functions and the probability density of the hydrogen atom.\n",
    "\n",
    "But first, let's install ComFiT"
   ]
  },
  {
   "cell_type": "code",
   "execution_count": null,
   "metadata": {},
   "outputs": [],
   "source": [
    "!pip uninstall -y comfit"
   ]
  },
  {
   "cell_type": "markdown",
   "metadata": {},
   "source": [
    "Then, we import it."
   ]
  },
  {
   "cell_type": "code",
   "execution_count": 1,
   "metadata": {},
   "outputs": [],
   "source": [
    "import comfit as cf"
   ]
  },
  {
   "cell_type": "markdown",
   "metadata": {},
   "source": [
    "As explained in the [documentation](https://vidarsko.github.io/ComFiT/ClassQuantumMechanics/),we are already using natural units for this problem.\n",
    "Let's see why. \n",
    "The Schrödinger equation for the hydrogen atom is given by\n",
    "\n",
    "$$\n",
    "\\left( -\\frac{\\hbar^2}{2m} \\nabla^2 - \\frac{e^2}{4\\pi\\epsilon_0 r} \\right) \\psi = E \\psi,\n",
    "$$\n",
    "\n",
    "where $\\hbar$ is the reduced Planck constant, $m$ is the mass of the electron, $e$ is the elementary charge, $\\epsilon_0$ is the vacuum permittivity, $r$ is the distance from the nucleus, $\\psi$ is the wave function, and $E$ is the energy of the electron. \n",
    "We are expressing the potential in units of the Hartree energy, which is defined as\n",
    "\n",
    "$$\n",
    "E_h = \\frac{e^2}{4\\pi\\epsilon_0 a_0} \n",
    "$$\n",
    "\n",
    "where $a_0$ is the Bohr radius, which means that when expressing the Schroedinger equation in these units, the time-independent Schrödinger equation for the hydrogen atom becomes\n",
    "\n",
    "$$\n",
    "\\left( -\\frac{1}{2} \\nabla^2 - \\frac{1}{r} \\right) \\psi = E \\psi.\n",
    "$$\n",
    "\n",
    "This is the equation that we will have a look at in this tutorial.\n",
    "\n",
    "A complete treatment of Quantum Mechanics can be found in this [video series by MIT OpenCourseWare](https://www.youtube.com/watch?v=jANZxzetPaQ&list=PLUl4u3cNGP60cspQn3N9dYRPiyVWDd80G&ab_channel=MITOpenCourseWare). \n",
    "We will look at material covered in videos $\\sim 95 - 110$."
   ]
  },
  {
   "cell_type": "markdown",
   "metadata": {},
   "source": [
    "## Two dimensions\n",
    "\n",
    "The Laplacian can be written in spherical coordinates as $\\nabla^2  = \\frac{1}{r} \\partial_r r \\partial_r + \\frac{1}{r^2} \\partial_\\phi^2 $, so we get\n",
    "\n",
    "$$\n",
    "-\\frac{1}{2} \\frac{1}{r} \\partial_r r \\partial_r \\psi - \\frac{1}{2} \\frac{1}{r^2} \\partial_\\phi^2 \\psi - \\frac{1}{r} \\psi = E \\psi\n",
    "$$\n",
    "\n",
    "The angular momentum operator $\\hat L_z$ is given by $\\hat L_z = \\hat x \\hat p_y - \\hat y \\hat p_x$, and since $\\hat x = x$ and $\\hat p_x = - \\mathfrak i \\partial_x$ (remembering $\\hbar=1$) in the position representation and similarly for $y$, we get\n",
    "\n",
    "$$\n",
    "\\hat L_z = - \\mathfrak i x \\partial_y + \\mathfrak i y \\partial_x\n",
    "$$\n",
    "\n",
    "and \n",
    "\n",
    "$$\n",
    "\\hat L_z^2 = (- \\mathfrak i x \\partial_y + \\mathfrak i y \\partial_x)(- \\mathfrak i x \\partial_y + \\mathfrak i y \\partial_x) \n",
    "$$\n",
    "\n",
    "$$\n",
    "= - x^2 \\partial_y^2  + x \\partial_y ( y \\partial_x) + y \\partial_x (x \\partial_y) - y^2 \\partial_x^2\n",
    "$$\n",
    "\n",
    "$$\n",
    "= - x^2 \\partial_y^2  + x \\partial_x + xy y \\partial_x\\partial_y + y  \\partial_y  + xy \\partial_x \\partial_y - y^2 \\partial_x^2\n",
    "$$"
   ]
  },
  {
   "cell_type": "markdown",
   "metadata": {},
   "source": [
    "The transformation of variables is like \n",
    "\n",
    "$$\n",
    "x = r \\cos \\phi\n",
    "$$\n",
    "\n",
    "$$\n",
    "y = r \\sin \\phi\n",
    "$$\n",
    "\n",
    "So \n",
    "\n",
    "$$\n",
    "\\partial_\\phi = (\\partial_\\phi x) \\partial_x + (\\partial_\\phi y) \\partial_y = -r \\sin \\phi \\partial_x + r \\cos \\phi \\partial_y\n",
    "$$\n",
    "\n",
    "$$\n",
    "= - y \\partial_x + x \\partial_y\n",
    "$$\n",
    "\n",
    "So \n",
    "\n",
    "$$\n",
    "\\hat L_z = - \\mathfrak i \\partial_\\phi\n",
    "$$"
   ]
  },
  {
   "cell_type": "markdown",
   "metadata": {},
   "source": [
    "And \n",
    "\n",
    "$$\n",
    "\\hat L_z^2 = - \\partial_\\theta^2\n",
    "$$"
   ]
  },
  {
   "cell_type": "markdown",
   "metadata": {},
   "source": [
    "Now let's find eigenstates for $\\hat L_z$\n",
    "\n",
    "$$\n",
    "\\hat L_z \\psi_{m} = m \\psi_m\n",
    "$$\n",
    "\n",
    "$$\n",
    "-\\mathfrak i \\partial_\\phi \\psi_m = m \\psi_m\n",
    "$$\n",
    "\n",
    "$$\n",
    "\\psi_m = e^{i m \\phi}\n",
    "$$\n",
    "\n",
    "And since $\\psi_m (\\phi + 2 \\pi) = \\psi_m (\\phi)$, we have that $m$ must be an integer."
   ]
  },
  {
   "cell_type": "markdown",
   "metadata": {},
   "source": [
    "Now let's insert the ansatz $\\psi = R(r) e^{i m \\phi}$ into the Schrödinger equation\n",
    "\n",
    "$$\n",
    "- \\frac{1}{2r} \\partial_r r \\partial_r R(r) e^{i m \\phi} + \\frac{m^2}{2} \\frac{1}{r^2} R(r) e^{i m \\phi} - \\frac{1}{r} R(r) e^{i m \\phi} = E  R(r) e^{i m \\phi}\n",
    "$$\n",
    "\n",
    "$$\n",
    "- \\frac{1}{2r} \\partial_r r \\partial_r R(r) + \\frac{m^2}{2r^2} R(r) - \\frac{1}{r} R(r) = E  R(r)\n",
    "$$"
   ]
  },
  {
   "cell_type": "code",
   "execution_count": 2,
   "metadata": {},
   "outputs": [],
   "source": [
    "qm = cf.QuantumMechanics(3,xlim=[-2,2],ylim=[-2,2],zlim=[-2,2])"
   ]
  },
  {
   "cell_type": "code",
   "execution_count": 4,
   "metadata": {},
   "outputs": [],
   "source": []
  },
  {
   "cell_type": "code",
   "execution_count": 7,
   "metadata": {},
   "outputs": [],
   "source": []
  },
  {
   "cell_type": "code",
   "execution_count": 8,
   "metadata": {},
   "outputs": [
    {
     "ename": "UnboundLocalError",
     "evalue": "cannot access local variable 'plotting_lib' where it is not associated with a value",
     "output_type": "error",
     "traceback": [
      "\u001b[1;31m---------------------------------------------------------------------------\u001b[0m",
      "\u001b[1;31mUnboundLocalError\u001b[0m                         Traceback (most recent call last)",
      "Cell \u001b[1;32mIn[8], line 1\u001b[0m\n\u001b[1;32m----> 1\u001b[0m \u001b[43mqm\u001b[49m\u001b[38;5;241;43m.\u001b[39;49m\u001b[43mplot_complex_field\u001b[49m\u001b[43m(\u001b[49m\u001b[43mqm\u001b[49m\u001b[38;5;241;43m.\u001b[39;49m\u001b[43mpsi\u001b[49m\u001b[43m)\u001b[49m\n",
      "File \u001b[1;32mc:\\Users\\vidar\\Desktop\\ComFiT\\venv\\Lib\\site-packages\\comfit\\core\\base_system.py:1632\u001b[0m, in \u001b[0;36mBaseSystem.plot_complex_field\u001b[1;34m(self, complex_field, **kwargs)\u001b[0m\n\u001b[0;32m   1628\u001b[0m theta \u001b[38;5;241m=\u001b[39m np\u001b[38;5;241m.\u001b[39mangle(complex_field)\n\u001b[0;32m   1630\u001b[0m colormap \u001b[38;5;241m=\u001b[39m tool_colormap_angle()\n\u001b[1;32m-> 1632\u001b[0m \u001b[38;5;28;01mif\u001b[39;00m \u001b[43mplotting_lib\u001b[49m \u001b[38;5;241m==\u001b[39m \u001b[38;5;124m'\u001b[39m\u001b[38;5;124mmatplotlib\u001b[39m\u001b[38;5;124m'\u001b[39m:\n\u001b[0;32m   1633\u001b[0m     ax \u001b[38;5;241m=\u001b[39m kwargs\u001b[38;5;241m.\u001b[39mget(\u001b[38;5;124m'\u001b[39m\u001b[38;5;124max\u001b[39m\u001b[38;5;124m'\u001b[39m, \u001b[38;5;28;01mNone\u001b[39;00m)\n\u001b[0;32m   1635\u001b[0m     \u001b[38;5;28;01mif\u001b[39;00m ax \u001b[38;5;241m==\u001b[39m \u001b[38;5;28;01mNone\u001b[39;00m:\n",
      "\u001b[1;31mUnboundLocalError\u001b[0m: cannot access local variable 'plotting_lib' where it is not associated with a value"
     ]
    }
   ],
   "source": []
  },
  {
   "cell_type": "code",
   "execution_count": 9,
   "metadata": {},
   "outputs": [
    {
     "name": "stdout",
     "output_type": "stream",
     "text": [
      "Found existing installation: comfit 1.3.0\n",
      "Uninstalling comfit-1.3.0:\n",
      "  Successfully uninstalled comfit-1.3.0\n"
     ]
    }
   ],
   "source": []
  },
  {
   "cell_type": "code",
   "execution_count": null,
   "metadata": {},
   "outputs": [],
   "source": []
  }
 ],
 "metadata": {
  "kernelspec": {
   "display_name": "venv",
   "language": "python",
   "name": "python3"
  },
  "language_info": {
   "codemirror_mode": {
    "name": "ipython",
    "version": 3
   },
   "file_extension": ".py",
   "mimetype": "text/x-python",
   "name": "python",
   "nbconvert_exporter": "python",
   "pygments_lexer": "ipython3",
   "version": "3.11.5"
  }
 },
 "nbformat": 4,
 "nbformat_minor": 2
}

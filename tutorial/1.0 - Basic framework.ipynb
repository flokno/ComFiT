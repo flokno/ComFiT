{
 "cells": [
  {
   "cell_type": "markdown",
   "id": "a51a3b22-f269-46c4-bd98-bb5c32264e27",
   "metadata": {},
   "source": [
    "# 1.0 - Basic framework\n",
    "This tutorial is meant to introduce the very basic functionality of the comfit Python package. \n"
   ]
  },
  {
   "cell_type": "markdown",
   "id": "33e41027-b293-4dd0-b5c7-b946838f473c",
   "metadata": {},
   "source": [
    "## Section \n",
    "This is a section"
   ]
  },
  {
   "cell_type": "code",
   "execution_count": null,
   "id": "a152b5a6-f985-47c8-95e9-c4b9d6d4464f",
   "metadata": {},
   "outputs": [],
   "source": []
  }
 ],
 "metadata": {
  "kernelspec": {
   "display_name": "Python 3 (ipykernel)",
   "language": "python",
   "name": "python3"
  },
  "language_info": {
   "codemirror_mode": {
    "name": "ipython",
    "version": 3
   },
   "file_extension": ".py",
   "mimetype": "text/x-python",
   "name": "python",
   "nbconvert_exporter": "python",
   "pygments_lexer": "ipython3",
   "version": "3.11.5"
  }
 },
 "nbformat": 4,
 "nbformat_minor": 5
}

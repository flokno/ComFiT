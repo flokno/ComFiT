{
 "cells": [
  {
   "cell_type": "markdown",
   "metadata": {},
   "source": [
    "# Base System Tutorial: Make your own model\n",
    "\n",
    "In this tutorial, we will show you how to make your own model using the ComFiT library.\n",
    "\n",
    "We will look at two examples, one with a scalar order parameter, and one with a vector order parameter.\n",
    "\n",
    "## Scalar order parameter\n",
    "\n",
    "We will start with a simple example of a scalar order parameter $\\psi$, which will follow the following equation of motion\n",
    "\n",
    "$$\n",
    "\\partial_t \\psi = \\nabla^2 \\psi - \\texttt{r} \\psi - \\psi^3,\n",
    "$$\n",
    "\n",
    "where $\\texttt{r}$ is a parameter. \n",
    "For more information on what exactly this equation of motion represents, details are given later in this document."
   ]
  },
  {
   "cell_type": "markdown",
   "metadata": {},
   "source": [
    "We see that we can write this equation on the form \n",
    "\n",
    "$$\n",
    "\\partial_t \\psi = \\omega (\\nabla) \\psi + N, \n",
    "$$\n",
    "\n",
    "where $\\omega$ is a linear operator acting on $\\psi$\n",
    "\n",
    "$$\n",
    "\\omega (\\nabla) = \\nabla^2 - r\n",
    "$$\n",
    "\n",
    "and $N$ is a non-linear operator\n",
    "\n",
    "$$\n",
    "N = -\\psi^3.\n",
    "$$\n",
    "\n",
    "Both of these pieces need to be implemented in ComFiT to run the simulation. \n",
    "\n",
    "We start by making a class for our specific system that inherits from the `BaseSystem` class. We will call it `LandauSystem`."
   ]
  },
  {
   "cell_type": "code",
   "execution_count": null,
   "metadata": {},
   "outputs": [],
   "source": [
    "!pip install comfit -q"
   ]
  },
  {
   "cell_type": "code",
   "execution_count": null,
   "metadata": {},
   "outputs": [],
   "source": [
    "import comfit as cf\n",
    "\n",
    "class LandauSystem(cf.BaseSystem):\n",
    "    \n",
    "    def __init__(self,dim, r, **kwargs):\n",
    "        self.r = r\n",
    "        super().__init__(dim, **kwargs)\n",
    "        "
   ]
  },
  {
   "cell_type": "markdown",
   "metadata": {},
   "source": [
    "This will create a class inheriting from `BaseSystem` which uses the same initialization as the `BaseSystem` class, but also sets the `r` parameter. "
   ]
  },
  {
   "cell_type": "code",
   "execution_count": null,
   "metadata": {},
   "outputs": [],
   "source": [
    "ls = LandauSystem(2, 0.5)\n",
    "print(ls.r)"
   ]
  },
  {
   "cell_type": "markdown",
   "metadata": {},
   "source": [
    "Now, we want to add our linear operator. \n",
    "We will return the linear operator in Fourier space, calc_omega_f`, and in order to calculate the Laplacian, we will use the predefined function `calc_k2`, which exists in `BaseSystem`, to do so. \n",
    "If you find this part confusing, we recommend going through the [Basic Framework Tutorial](https://colab.research.google.com/github/vidarsko/ComFiT/blob/main/tutorial/base_system_basic_framework.ipynb). \n",
    "We will also calculate the nonlinear function. \n",
    "\n",
    "Due to the way the computational setup works, both functions need to be returned in Fourier space, which is why we use the subscript `_f` in them, and we will use the `fft.fftn` function from `scipy` to do so."
   ]
  },
  {
   "cell_type": "code",
   "execution_count": null,
   "metadata": {},
   "outputs": [],
   "source": [
    "import scipy as sp\n",
    "\n",
    "# Make linear operator\n",
    "def calc_omega_f(self):\n",
    "    return -self.calc_k2() - self.r\n",
    "\n",
    "# Add method to class\n",
    "LandauSystem.calc_omega_f = calc_omega_f\n",
    "\n",
    "# Make the non-linear operator\n",
    "def calc_nonlinear_evolution_function_f(self, field, t):\n",
    "    return -sp.fft.fftn(field**3)\n",
    "\n",
    "# Add method to class\n",
    "LandauSystem.calc_nonlinear_evolution_function_f = calc_nonlinear_evolution_function_f"
   ]
  },
  {
   "cell_type": "markdown",
   "metadata": {},
   "source": [
    "Next, we will configure the solver of the system "
   ]
  },
  {
   "cell_type": "code",
   "execution_count": null,
   "metadata": {},
   "outputs": [],
   "source": [
    "import numpy as np\n",
    "def evolve(self, number_steps):\n",
    "    omega_f = calc_omega_f(self)\n",
    "\n",
    "    integrating_factors_f, solver = self.calc_integrating_factors_f_and_solver(omega_f, 'ETD2RK')\n",
    "\n",
    "    for n in range(number_steps):\n",
    "        self.psi, self.psi_f = solver(integrating_factors_f, \n",
    "                                    self.calc_nonlinear_evolution_function_f, \n",
    "                                    self.psi, self.psi_f)\n",
    "        self.psi = np.real(self.psi)\n",
    "\n",
    "# Add evolve method to class\n",
    "LandauSystem.evolve = evolve"
   ]
  },
  {
   "cell_type": "markdown",
   "metadata": {},
   "source": [
    "The system is now ready to run, but we need to define the initial condition.\n",
    "Since both `psi` and `psi_f` are needed to run the simulation, we will need to define both these quantities. "
   ]
  },
  {
   "cell_type": "code",
   "execution_count": null,
   "metadata": {},
   "outputs": [],
   "source": [
    "# Initiating a system with positive r value\n",
    "ls = LandauSystem(2, 0.5)\n",
    "\n",
    "# Setting an initial condition with both positive and negative values\n",
    "ls.psi = np.random.rand(ls.xRes,ls.yRes)-0.5\n",
    "ls.psi_f = sp.fft.fftn(ls.psi)\n",
    "\n",
    "# Evolving the system\n",
    "ls.evolve(200)\n",
    "ls.plot_field(ls.psi)"
   ]
  },
  {
   "cell_type": "markdown",
   "metadata": {},
   "source": [
    "The field is approaches zero everywhere. \n",
    "Lets modify the value of $r$. "
   ]
  },
  {
   "cell_type": "code",
   "execution_count": null,
   "metadata": {},
   "outputs": [],
   "source": [
    "# Initiating a system with a postive r value\n",
    "ls = LandauSystem(2, -0.5)\n",
    "\n",
    "# Setting an initial condition with both positive and negative values\n",
    "ls.psi = np.random.rand(ls.xRes,ls.yRes)-0.5\n",
    "ls.psi_f = sp.fft.fftn(ls.psi)\n",
    "\n",
    "# Evolving the systemm\n",
    "ls.evolve(200)\n",
    "ls.plot_field(ls.psi)"
   ]
  },
  {
   "cell_type": "markdown",
   "metadata": {},
   "source": [
    "To illustrate what is happening, we will create two animations, showing the evolution in both cases. "
   ]
  },
  {
   "cell_type": "code",
   "execution_count": null,
   "metadata": {},
   "outputs": [],
   "source": [
    "# Initiating a system with positive r value\n",
    "ls = LandauSystem(2, 0.5)\n",
    "\n",
    "# Setting an initial condition with both positive and negative values\n",
    "ls.psi = np.random.rand(ls.xRes,ls.yRes)-0.5\n",
    "ls.psi_f = sp.fft.fftn(ls.psi)\n",
    "\n",
    "# Make animation\n",
    "for n in range(100):\n",
    "    ls.evolve(2)\n",
    "    ls.plot_field(ls.psi)\n",
    "    cf.tool_save_plot(n)\n",
    "cf.tool_make_animation_gif(n,name='evolution_positive_r')"
   ]
  },
  {
   "cell_type": "markdown",
   "metadata": {},
   "source": [
    "The plot above just shows the last plot while the animation is saved in the folder containing this notebook.\n"
   ]
  },
  {
   "cell_type": "markdown",
   "metadata": {},
   "source": [
    "Now let's do the same for $r<0$"
   ]
  },
  {
   "cell_type": "code",
   "execution_count": null,
   "metadata": {},
   "outputs": [],
   "source": [
    "# Initiating a system with negative r value\n",
    "ls = LandauSystem(2, -0.5)\n",
    "\n",
    "# Setting an initial condition with both positive and negative values\n",
    "ls.psi = np.random.rand(ls.xRes,ls.yRes)-0.5\n",
    "ls.psi_f = sp.fft.fftn(ls.psi)\n",
    "\n",
    "# Make animation\n",
    "for n in range(100):\n",
    "    ls.evolve(2)\n",
    "    ls.plot_field(ls.psi)\n",
    "    cf.tool_save_plot(n)\n",
    "cf.tool_make_animation_gif(n,name='evolution_negative_r')"
   ]
  },
  {
   "cell_type": "markdown",
   "metadata": {},
   "source": [
    "It is easy now to produce similar results for one and three dimensions. "
   ]
  },
  {
   "cell_type": "code",
   "execution_count": null,
   "metadata": {},
   "outputs": [],
   "source": [
    "# Initiating a system with negative r value\n",
    "ls = LandauSystem(1, -0.5)\n",
    "\n",
    "# Setting an initial condition with both positive and negative values\n",
    "ls.psi = np.random.rand(ls.xRes)-0.5\n",
    "ls.psi_f = sp.fft.fftn(ls.psi)\n",
    "\n",
    "# Make animation\n",
    "for n in range(100):\n",
    "    ls.evolve(3)\n",
    "    ls.plot_field(ls.psi)\n",
    "    cf.tool_save_plot(n)\n",
    "cf.tool_make_animation_gif(n,name='evolution_1D_negative_r')"
   ]
  },
  {
   "cell_type": "code",
   "execution_count": null,
   "metadata": {},
   "outputs": [],
   "source": [
    "# Initiating a system with negative r value\n",
    "# Decreasing the resolution a bit for faster computation\n",
    "ls = LandauSystem(3, -0.5, xRes=31, yRes=31, zRes=31)\n",
    "\n",
    "# Setting an initial condition with both positive and negative values\n",
    "ls.psi = np.random.rand(ls.xRes,ls.yRes,ls.zRes)-0.5\n",
    "ls.psi_f = sp.fft.fftn(ls.psi)\n",
    "\n",
    "# Make animation\n",
    "for n in range(100):\n",
    "    ls.evolve(3)\n",
    "    ls.plot_field(ls.psi)\n",
    "    cf.tool_save_plot(n)\n",
    "cf.tool_make_animation_gif(n,name='evolution_3D_negative_r')"
   ]
  },
  {
   "cell_type": "markdown",
   "metadata": {},
   "source": [
    "### Why do we see a phase-transition at this value?\n",
    "\n",
    "The equation of motion is derived from a simple version of Landau theory of the Bragg-Williams theory. \n",
    "In this case, the primary field variable is a scalar field $\\psi$ for which the complete field energy is\n",
    "\n",
    "$$\n",
    "\\mathcal F[\\psi] = \\int d\\boldsymbol{r} \\frac{1}{2} (\\nabla \\psi)^2  + \\frac{1}{2} \\texttt r \\psi^2 + \\frac{1}{4} \\psi^4  .\n",
    "$$\n",
    "\n",
    "A dynamical equation which minimizes this functions is given by. \n",
    "\n",
    "$$\n",
    "\\partial_t \\psi = - \\frac{\\delta \\mathcal F}{\\delta \\psi} = \\nabla^2 \\psi - r \\psi - \\psi^3\n",
    "$$\n",
    "\n",
    "which we have solved numerically in the code example above. \n",
    "Here, we will look at why we get at phase transition at $r=0$.\n",
    "\n",
    "Due to the first term, a minimal free energy state is given by a uniform state $\\psi(\\mathbf r) = \\psi_0$, for which the free energy is \n",
    "\n",
    "$$\n",
    "F = V \\left( \\frac{1}{2} \\texttt r \\psi_0^2 + \\frac{1}{4} \\psi_0^4 \\right) .\n",
    "$$\n",
    "\n",
    "To find the equilibrium value of $\\psi_0$, we differentiate wrt. $\\psi_0$ and set to zero, obtaining\n",
    "\n",
    "$$\n",
    "r\\psi_0 + \\psi_0^3 = 0 .\n",
    "$$\n",
    "\n",
    "which has solutions $\\psi_0 = 0$ and $\\psi_0 = \\pm \\sqrt{-r}$. \n",
    "At $r>0$, only the first solution exists, whereas at $r<0$, both solutions exist and the latter is energetically favorable (smaller $F$), as can be verified by insertion. \n",
    "Therefore, we expect a phase transition at $r=0$, as we observe."
   ]
  },
  {
   "cell_type": "markdown",
   "metadata": {},
   "source": []
  }
 ],
 "metadata": {
  "kernelspec": {
   "display_name": "venv",
   "language": "python",
   "name": "python3"
  },
  "language_info": {
   "codemirror_mode": {
    "name": "ipython",
    "version": 3
   },
   "file_extension": ".py",
   "mimetype": "text/x-python",
   "name": "python",
   "nbconvert_exporter": "python",
   "pygments_lexer": "ipython3",
   "version": "3.10.4"
  }
 },
 "nbformat": 4,
 "nbformat_minor": 2
}

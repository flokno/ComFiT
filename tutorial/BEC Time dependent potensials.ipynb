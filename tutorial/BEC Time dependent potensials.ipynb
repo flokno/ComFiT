{
 "cells": [
  {
   "cell_type": "markdown",
   "id": "daa2bc39",
   "metadata": {},
   "source": [
    "# Introduction to the BEC module"
   ]
  },
  {
   "cell_type": "markdown",
   "id": "1fa3e78f",
   "metadata": {},
   "source": [
    "In this notebook we are going to illustrate how the potential works in the BEC module. We start by initialising a 2 dimensional BEC with dimensions 100x100. The factor gamma is here set to be non-zero to introduce some dissipation to the model. \n"
   ]
  },
  {
   "cell_type": "code",
   "execution_count": null,
   "id": "9d07ba3d",
   "metadata": {},
   "outputs": [],
   "source": [
    "import comfit as cf\n",
    "import matplotlib.pyplot as plt\n",
    "import numpy as np\n",
    "\n",
    "bec = cf.BEC(2,xRes=100,yRes=100,gamma=0.05,dt=0.1)\n"
   ]
  },
  {
   "cell_type": "markdown",
   "id": "e3b75ebe",
   "metadata": {},
   "source": [
    "Now we need to initialize the wavefunction. Before we do that we need to specify the potential. The potential is by defult a function given as\n",
    "\n",
    "self.V_ext = lambda: self.V0\n",
    "\n",
    "If you want a potential that is constant in time you can change V_0 to the desired value (defult is 0). We are now going to set a time dependent potential consisting of a harmonic potential with a Gaussian stirrer. Before we do that we have to initialise the wavefunction close to the ground-state and relax it using the fucntion bec.evolve_relax_BEC(). \n"
   ]
  },
  {
   "cell_type": "code",
   "execution_count": null,
   "id": "e24de3b6",
   "metadata": {},
   "outputs": [],
   "source": [
    "### First we set the size of the harmonic\n",
    "R_tf = 40\n",
    "\n",
    "### Here we set the size and velocity of the stirrer\n",
    "stirrer_radius = 20\n",
    "stirrer_velocity = 0.6\n",
    "freq = stirrer_velocity/stirrer_radius\n",
    "size =4\n",
    "strength = .9\n",
    "\n",
    "### Defining the function for the time-dependent potential\n",
    "def V_t():\n",
    "    pos_x = bec.xmid + stirrer_radius * np.cos(freq * bec.t)\n",
    "    pos_y = bec.ymid + stirrer_radius * np.sin(freq * bec.t)\n",
    "    stirrer = bec.calc_gaussian_stirring_potential(size, strength, [pos_x, pos_y])\n",
    "    harmonic = bec.set_harmonic_potential(R_tf)\n",
    "    return   harmonic + stirrer\n",
    "\n",
    "### Set the potential to the t=0 value, initialise the TF ground-state and relax in imaginary time\n",
    "\n",
    "bec.V0 = V_t()\n",
    "bec.set_initial_condition_Thomas_Fermi()\n",
    "bec.evolve_relax_BEC(20,'ETD4RK')\n",
    "\n",
    "bec.plot_field(np.abs(bec.psi)**2,cmap_symmetric=False,colormap = 'winter')\n",
    "plt.show()\n"
   ]
  },
  {
   "cell_type": "markdown",
   "id": "e796de60",
   "metadata": {},
   "source": [
    "After the initial relaxation we can set the potential to be time-dependent using the function bec.set_time_dependent_potential(V_t)\n",
    "\n",
    "Also notize that the time dependence of V_t() has to be through the variable bec.t which is updated in the evolve functions (this is also why the potential has to be set as a constant before the relaxation step). "
   ]
  },
  {
   "cell_type": "code",
   "execution_count": null,
   "id": "43698cc8",
   "metadata": {},
   "outputs": [],
   "source": [
    "\n",
    "### Updating the potential to the time-dependent function V_t()\n",
    "bec.set_time_dependent_potential(V_t)\n",
    "\n",
    "### Evolve the system with the dime-dependent potential\n",
    "T = 300\n",
    "timesteps = int(T/bec.dt)\n",
    "\n",
    "bec.evolve_dGPE(timesteps,'ETD4RK')\n",
    "\n",
    "bec.plot_field(np.abs(bec.psi)**2,cmap_symmetric=False,colormap = 'winter')\n",
    "plt.show()"
   ]
  },
  {
   "cell_type": "markdown",
   "id": "e24a8323",
   "metadata": {},
   "source": [
    "Now we set the potential to be time independent again and run the system again. The non-zero bec.gamma are going to relax the system."
   ]
  },
  {
   "cell_type": "code",
   "execution_count": null,
   "id": "e949d336",
   "metadata": {},
   "outputs": [],
   "source": [
    "bec.V0 = V_t()\n",
    "\n",
    "\n",
    "bec.V_ext = lambda: bec.V0"
   ]
  },
  {
   "cell_type": "code",
   "execution_count": null,
   "id": "3997e7fc",
   "metadata": {},
   "outputs": [],
   "source": [
    "bec.evolve_dGPE(timesteps,'ETD4RK')\n",
    "\n",
    "\n",
    "timesteps = int(200/bec.dt)\n",
    "bec.plot_field(np.abs(bec.psi)**2,cmap_symmetric=False,colormap = 'winter')\n",
    "plt.show()"
   ]
  },
  {
   "cell_type": "code",
   "execution_count": null,
   "id": "a6f4ccd8",
   "metadata": {},
   "outputs": [],
   "source": []
  }
 ],
 "metadata": {
  "kernelspec": {
   "display_name": "Python 3 (ipykernel)",
   "language": "python",
   "name": "python3"
  },
  "language_info": {
   "codemirror_mode": {
    "name": "ipython",
    "version": 3
   },
   "file_extension": ".py",
   "mimetype": "text/x-python",
   "name": "python",
   "nbconvert_exporter": "python",
   "pygments_lexer": "ipython3",
   "version": "3.11.5"
  }
 },
 "nbformat": 4,
 "nbformat_minor": 5
}
